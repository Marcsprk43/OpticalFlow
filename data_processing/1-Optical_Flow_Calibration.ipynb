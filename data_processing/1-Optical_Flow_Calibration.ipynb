{
 "cells": [
  {
   "cell_type": "code",
   "execution_count": null,
   "metadata": {},
   "outputs": [],
   "source": [
    "import cv2\n",
    "import matplotlib.pyplot as plt\n",
    "import numpy as np\n",
    "%matplotlib inline\n",
    "import os"
   ]
  },
  {
   "cell_type": "code",
   "execution_count": null,
   "metadata": {},
   "outputs": [],
   "source": [
    "folder_name = \"/Users/marcfvanzyl/Google Drive/ScienceFair/data/2019-11-08_Calibration_OF/\""
   ]
  },
  {
   "cell_type": "code",
   "execution_count": null,
   "metadata": {},
   "outputs": [],
   "source": [
    "images = np.array([folder_name + f for f in os.listdir(folder_name) if f.endswith(\".jpeg\")])"
   ]
  },
  {
   "cell_type": "code",
   "execution_count": null,
   "metadata": {},
   "outputs": [],
   "source": [
    "chessboard_num_squares_across = 12\n",
    "chessboard_num_squares_up = 8\n",
    "chessboard_square_size = 0.0613\n",
    "chessboard_aruco_ratio = 0.7   # this is a fraction of chessboard_square_size\n",
    "aruco_dict = aruco.Dictionary_get(aruco.DICT_5X5_250)"
   ]
  },
  {
   "cell_type": "code",
   "execution_count": null,
   "metadata": {},
   "outputs": [],
   "source": [
    "board = aruco.CharucoBoard_create(chessboard_num_squares_across, \n",
    "                                  chessboard_num_squares_up, \n",
    "                                  chessboard_square_size, \n",
    "                                  chessboard_aruco_ratio*chessboard_square_size, \n",
    "                                  aruco_dict)\n",
    "\n",
    "imboard = board.draw((12000, 8000))\n",
    "fig = plt.figure()\n",
    "ax = fig.add_subplot(1,1,1)\n",
    "plt.imshow(imboard, cmap = plt.cm.gray, interpolation = \"nearest\")\n",
    "ax.axis(\"off\")\n",
    "plt.show()"
   ]
  },
  {
   "cell_type": "code",
   "execution_count": null,
   "metadata": {},
   "outputs": [],
   "source": [
    "image_set_number = 1\n",
    "\n",
    "def plotImage(im, title = \"Title\"):\n",
    "\n",
    "    fig, axs = plt.subplots(figsize=(20,8))\n",
    "    axs.imshow(img)\n",
    "    axs.set_title(title)\n",
    "    plt.show()"
   ]
  },
  {
   "cell_type": "code",
   "execution_count": null,
   "metadata": {},
   "outputs": [],
   "source": [
    "# set up list variables to store the results\n",
    "allCorners = []\n",
    "allIds = []\n",
    "allObjectPoints = []\n",
    "allImagePoints = []\n",
    "\n",
    "# These are parameters used by the cv2.cornerSubPix function\n",
    "criteria = (cv2.TERM_CRITERIA_EPS + cv2.TERM_CRITERIA_MAX_ITER, 100, 0.00001)\n",
    "\n",
    "# get files by looping over the images array\n",
    "for ind, image in enumerate(images):\n",
    "    \n",
    "    # image[0] is the L image\n",
    "    filename = image\n",
    "    img = cv2.imread(filename)\n",
    "    \n",
    "    \n",
    "    \n",
    "\n",
    " \n",
    "    # convert the image to grayscale\n",
    "    gray = cv2.cvtColor(img, cv2.COLOR_BGR2GRAY)\n",
    "    imsize = gray.shape\n",
    "    # find the aruco corners and the ids of each corner\n",
    "    corners, ids, rejectedImgPoints = cv2.aruco.detectMarkers(gray, aruco_dict)\n",
    "    \n",
    "    print('Found {} aruco marker corners'.format(len(ids)))\n",
    "    \n",
    "    if len(ids)>0:\n",
    "        (retval, checkerboardCorners,\n",
    "         checkerboardIds) = cv2.aruco.interpolateCornersCharuco(corners, ids, gray, board, )\n",
    "        \n",
    "        print('Found {} checker corners'.format(len(checkerboardIds)))\n",
    "        if len(checkerboardIds)>0:\n",
    "            # SUB PIXEL DETECTION\n",
    "            for corner in checkerboardCorners:\n",
    "                #print('Sub pixel optimization:')\n",
    "                #print(corner)\n",
    "                cv2.cornerSubPix(gray, corner,\n",
    "                                 winSize = (5,5),\n",
    "                                 zeroZone = (-1,-1),\n",
    "                                 criteria = criteria)\n",
    "                #print(corner)\n",
    "                #print('+++'\n",
    "    allCorners.append(checkerboardCorners)\n",
    "    allIds.append(checkerboardIds)\n",
    "    allObjectPoints.append(board.chessboardCorners[checkerboardIds.reshape(checkerboardIds.shape[0])])\n",
    "    fig, axs = plt.subplots(figsize=(36,12))\n",
    "    axs.imshow(cv2.aruco.drawDetectedCornersCharuco(img, checkerboardCorners, checkerboardIds))\n",
    "    plt.show()\n",
    "    \n",
    "    "
   ]
  },
  {
   "cell_type": "code",
   "execution_count": null,
   "metadata": {
    "scrolled": true
   },
   "outputs": [],
   "source": [
    "print(\"CAMERA CALIBRATION\")\n",
    "\n",
    "cameraMatrixInit = np.array([[ 1000.,    0., imsize[0]/2.],\n",
    "                             [    0., 1000., imsize[1]/2.],\n",
    "                             [    0.,    0.,           1.]])\n",
    "\n",
    "distCoeffsInit = np.zeros((5,1))\n",
    "flags = (cv2.CALIB_USE_INTRINSIC_GUESS + cv2.CALIB_RATIONAL_MODEL + cv2.CALIB_FIX_ASPECT_RATIO)\n",
    "#flags = (cv2.CALIB_RATIONAL_MODEL)\n",
    "(ret, camera_matrix, distortion_coefficients,\n",
    " rotation_vectors, translation_vectors,\n",
    " stdDeviationsIntrinsics, stdDeviationsExtrinsics,\n",
    " perViewErrors) = cv2.aruco.calibrateCameraCharucoExtended(\n",
    "                  charucoCorners=allCorners,\n",
    "                  charucoIds=allIds,\n",
    "                  board=board,\n",
    "                  imageSize=imsize,\n",
    "                  cameraMatrix=cameraMatrixInit,\n",
    "                  distCoeffs=distCoeffsInit,\n",
    "                  flags=flags,\n",
    "                  criteria=(cv2.TERM_CRITERIA_EPS & cv2.TERM_CRITERIA_COUNT, 1000000, 1e-11))"
   ]
  },
  {
   "cell_type": "code",
   "execution_count": null,
   "metadata": {},
   "outputs": [],
   "source": [
    "i=12 # select image id\n",
    "\n",
    "plt.figure(figsize=(18,18))\n",
    "frame = cv2.imread(images[i])\n",
    "img_undist = cv2.undistort(frame,camera_matrix,distortion_coefficients,None)\n",
    "plt.subplot(1,2,1)\n",
    "plt.imshow(frame)\n",
    "plt.title(\"Raw image\")\n",
    "plt.axis(\"off\")\n",
    "plt.subplot(1,2,2)\n",
    "plt.imshow(img_undist)\n",
    "plt.title(\"Corrected image\")\n",
    "plt.axis(\"off\")\n",
    "plt.show()"
   ]
  },
  {
   "cell_type": "code",
   "execution_count": null,
   "metadata": {},
   "outputs": [],
   "source": [
    "import pickle\n",
    "\n",
    "camera_calibration = {'camera_name':'Optical Flow','ret':ret, 'mtx':camera_matrix, 'dist':distortion_coefficients , 'rvecs':rotation_vectors, 'tvecs':translation_vectors}\n",
    "pickle.dump(camera_calibration, open('OFCameraCalibration.p', 'wb'))"
   ]
  }
 ],
 "metadata": {
  "kernelspec": {
   "display_name": "Python 3",
   "language": "python",
   "name": "python3"
  },
  "language_info": {
   "codemirror_mode": {
    "name": "ipython",
    "version": 3
   },
   "file_extension": ".py",
   "mimetype": "text/x-python",
   "name": "python",
   "nbconvert_exporter": "python",
   "pygments_lexer": "ipython3",
   "version": "3.7.4"
  }
 },
 "nbformat": 4,
 "nbformat_minor": 4
}
