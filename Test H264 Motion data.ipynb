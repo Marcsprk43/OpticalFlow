{
 "cells": [
  {
   "cell_type": "code",
   "execution_count": null,
   "metadata": {},
   "outputs": [],
   "source": [
    "#from __future__ import division\n",
    "\n",
    "import numpy as np\n",
    "\n",
    "width = 1920\n",
    "height = 1080\n",
    "cols = (width + 15) // 16\n",
    "cols += 1 # there's always an extra column\n",
    "rows = (height + 15) // 16\n",
    "path = '/Users/gerrie/Google Drive/ScienceFair2/video_test/'\n",
    "motion_data = np.fromfile( path+'motion_15_11.data', \n",
    "        dtype=[\n",
    "        ('x', 'i1'),\n",
    "        ('y', 'i1'),\n",
    "        ('sad', 'u2'),\n",
    "        ])\n",
    "frames = motion_data.shape[0] // (cols * rows)\n",
    "motion_data = motion_data.reshape((frames, rows, cols))"
   ]
  },
  {
   "cell_type": "code",
   "execution_count": null,
   "metadata": {},
   "outputs": [],
   "source": [
    "# Access the data for the first frame\n",
    "motion_data[0]['sad']"
   ]
  },
  {
   "cell_type": "code",
   "execution_count": null,
   "metadata": {},
   "outputs": [],
   "source": [
    "# Access just the x-vectors from the fifth frame\n",
    "motion_data[4]['x']"
   ]
  },
  {
   "cell_type": "code",
   "execution_count": null,
   "metadata": {},
   "outputs": [],
   "source": [
    "# Access SAD values for the tenth frame\n",
    "motion_data[9]['sad']"
   ]
  },
  {
   "cell_type": "code",
   "execution_count": null,
   "metadata": {},
   "outputs": [],
   "source": [
    "nx, ny = (121, 68)\n",
    "\n",
    "x = np.linspace(0, nx-1, nx)\n",
    "y = np.linspace(ny-1,0, ny)\n",
    "\n",
    "xv, yv = np.meshgrid(x, y)"
   ]
  },
  {
   "cell_type": "code",
   "execution_count": null,
   "metadata": {},
   "outputs": [],
   "source": [
    "xv_v = xv.reshape(1,-1)[0]\n",
    "xv_v.shape"
   ]
  },
  {
   "cell_type": "code",
   "execution_count": null,
   "metadata": {},
   "outputs": [],
   "source": [
    "yv_v = yv.reshape(1,-1)[0]\n",
    "yv_v"
   ]
  },
  {
   "cell_type": "code",
   "execution_count": null,
   "metadata": {},
   "outputs": [],
   "source": [
    "md = motion_data[30].reshape(1,-1)[0]\n",
    "\n",
    "mdx = [x[0] for x in md]\n",
    "mdy = [x[1] for x in md]\n",
    "mdc = [x[2] for x in md]\n"
   ]
  },
  {
   "cell_type": "code",
   "execution_count": null,
   "metadata": {},
   "outputs": [],
   "source": [
    "md = motion_data[30]\n",
    "\n",
    "mdx = md['x']\n",
    "mdy = md['y']\n",
    "mdc = md['sad']\n",
    "\n"
   ]
  },
  {
   "cell_type": "code",
   "execution_count": null,
   "metadata": {},
   "outputs": [],
   "source": [
    "import matplotlib.pyplot as plt\n",
    "import numpy as np\n",
    "\n",
    "for i in range(motion_data.shape[0]):\n",
    "\n",
    "    md = motion_data[i]\n",
    "\n",
    "    mdx = md['x']\n",
    "    mdy = md['y']\n",
    "    mdc = md['sad']\n",
    "\n",
    "\n",
    "    fig, ax = plt.subplots(figsize=(18,12))\n",
    "    q = ax.quiver(xv, yv, mdx, mdy, units='xy' ,scale=40, color='red')\n",
    "\n",
    "    ax.set_aspect('equal')\n",
    "\n",
    "    #plt.xlim(-2,123)\n",
    "    #plt.ylim(-2,89)\n",
    "\n",
    "    plt.title('How to plot a vector field using matplotlib ?',fontsize=10)\n",
    "\n",
    "    plt.savefig('how_to_plot_a_vector_field_in_matplotlib_fig1.png', bbox_inches='tight')\n",
    "    plt.show()\n"
   ]
  },
  {
   "cell_type": "code",
   "execution_count": null,
   "metadata": {},
   "outputs": [],
   "source": []
  }
 ],
 "metadata": {
  "kernelspec": {
   "display_name": "Python 3",
   "language": "python",
   "name": "python3"
  },
  "language_info": {
   "codemirror_mode": {
    "name": "ipython",
    "version": 3
   },
   "file_extension": ".py",
   "mimetype": "text/x-python",
   "name": "python",
   "nbconvert_exporter": "python",
   "pygments_lexer": "ipython3",
   "version": "3.7.4"
  }
 },
 "nbformat": 4,
 "nbformat_minor": 2
}
